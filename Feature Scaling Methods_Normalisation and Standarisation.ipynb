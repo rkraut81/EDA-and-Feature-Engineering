{
 "cells": [
  {
   "cell_type": "markdown",
   "metadata": {},
   "source": [
    "# Feature Scaling Methods : Normalisation and Standarisation"
   ]
  },
  {
   "cell_type": "markdown",
   "metadata": {},
   "source": [
    "### Scaling : \n",
    "The magnitude of the variables affects different machine learning algorithms for different reasons. In this section, I will cover a few standard ways of setting the magnitude of the variables to the same range of values.\n",
    "\n",
    "Data has two important features:  Unit and Magnitude. \n",
    "Ex : Age has unit =years and magnitude = value ( 30 yrs)\n",
    "\n",
    "If we are having many features , it will have different magnitudes and values .( ex : Height will be in feet and cms)\n",
    "The data should be scaled down for calculating the Euclidean distance.\n",
    "If we don't scale down, we will have huge distance as a result of which it will be difficult to reach global minima in Gradient Descent\n",
    "\n",
    "#### Where to use: \n",
    "1. Eucledian Distance , Gradient Descent wherever present like  - KNN, K means clustering , All deep learning , Concolution NN, Artificial NN\n",
    "2. Linear Regression (Gradient Descent to reach global minima), Logistic Regression\n",
    "\n",
    "#### Where not to use : \n",
    "Decision trees, Random Forest, XGBoost ,Adaboost( All Bagging and Boosting techniques)\n",
    "\n",
    "### Normalization: (min max scaler) - Helps to scale down the features between 0 to 1.\n",
    "One method utilised to bring all the variables to a more homogeneous scale is normalisation. Normalisation is synonym of centering the distribution. This means subtracting the mean of the variable to each observation. This procedure will \"center\" the new distribution at zero (the new mean of the variable will now be zero).\n",
    "Where to use : Most of deep learning where CNN (images pixel from 0 to 256 will be scaled down to 0 to 1) and  ANN used\n",
    "\n",
    "### Standardization: (standardscaler) - Helps to scale down the features based on standard normal distribution ( here mu=0 and sd= 1)\n",
    "Standarization is also used to bring all the variables to a similar scale. Standarization means centering the variable at zero, and standardizing the variance at 1. The procedure involves subtracting the mean of each observation and then dividing by the standard deviation:\n",
    "z = (x - x_mean) / std\n",
    "Where to use : Most of cases\n",
    "\n",
    "For an overview of the different scaling methods check: http://scikit-learn.org/stable/auto_examples/preprocessing/plot_all_scaling.html#sphx-glr-auto-examples-preprocessing-plot-all-scaling-py\n",
    "\n",
    "\n"
   ]
  },
  {
   "cell_type": "code",
   "execution_count": 7,
   "metadata": {},
   "outputs": [],
   "source": [
    "import pyforest"
   ]
  },
  {
   "cell_type": "markdown",
   "metadata": {},
   "source": [
    "# Normalization"
   ]
  },
  {
   "cell_type": "code",
   "execution_count": 10,
   "metadata": {},
   "outputs": [
    {
     "data": {
      "text/html": [
       "<div>\n",
       "<style scoped>\n",
       "    .dataframe tbody tr th:only-of-type {\n",
       "        vertical-align: middle;\n",
       "    }\n",
       "\n",
       "    .dataframe tbody tr th {\n",
       "        vertical-align: top;\n",
       "    }\n",
       "\n",
       "    .dataframe thead th {\n",
       "        text-align: right;\n",
       "    }\n",
       "</style>\n",
       "<table border=\"1\" class=\"dataframe\">\n",
       "  <thead>\n",
       "    <tr style=\"text-align: right;\">\n",
       "      <th></th>\n",
       "      <th>Class</th>\n",
       "      <th>Alcohol</th>\n",
       "      <th>Malic</th>\n",
       "    </tr>\n",
       "  </thead>\n",
       "  <tbody>\n",
       "    <tr>\n",
       "      <th>0</th>\n",
       "      <td>NaN</td>\n",
       "      <td>0</td>\n",
       "      <td>1.00</td>\n",
       "    </tr>\n",
       "    <tr>\n",
       "      <th>1</th>\n",
       "      <td>0.0</td>\n",
       "      <td>1</td>\n",
       "      <td>14.23</td>\n",
       "    </tr>\n",
       "    <tr>\n",
       "      <th>2</th>\n",
       "      <td>1.0</td>\n",
       "      <td>1</td>\n",
       "      <td>13.20</td>\n",
       "    </tr>\n",
       "    <tr>\n",
       "      <th>3</th>\n",
       "      <td>2.0</td>\n",
       "      <td>1</td>\n",
       "      <td>13.16</td>\n",
       "    </tr>\n",
       "    <tr>\n",
       "      <th>4</th>\n",
       "      <td>3.0</td>\n",
       "      <td>1</td>\n",
       "      <td>14.37</td>\n",
       "    </tr>\n",
       "  </tbody>\n",
       "</table>\n",
       "</div>"
      ],
      "text/plain": [
       "   Class  Alcohol  Malic\n",
       "0    NaN        0   1.00\n",
       "1    0.0        1  14.23\n",
       "2    1.0        1  13.20\n",
       "3    2.0        1  13.16\n",
       "4    3.0        1  14.37"
      ]
     },
     "execution_count": 10,
     "metadata": {},
     "output_type": "execute_result"
    }
   ],
   "source": [
    "# Let's demonstrate the procedure of standarisation on the Wine dataset.\n",
    "\n",
    "df=pd.read_csv(r'wine.csv', header=None, usecols=[0,1,2] )\n",
    "df.head()\n",
    "df.columns=['Class','Alcohol','Malic']\n",
    "df.head()\n",
    "\n"
   ]
  },
  {
   "cell_type": "code",
   "execution_count": 11,
   "metadata": {},
   "outputs": [
    {
     "data": {
      "text/plain": [
       "array([[0.        , 0.        ],\n",
       "       [0.33333333, 0.95661605],\n",
       "       [0.33333333, 0.88214027],\n",
       "       [0.33333333, 0.87924801],\n",
       "       [0.33333333, 0.96673897],\n",
       "       [0.33333333, 0.88503254],\n",
       "       [0.33333333, 0.95444685],\n",
       "       [0.33333333, 0.9681851 ],\n",
       "       [0.33333333, 0.94432393],\n",
       "       [0.33333333, 1.        ],\n",
       "       [0.33333333, 0.92986262],\n",
       "       [0.33333333, 0.9472162 ],\n",
       "       [0.33333333, 0.94866233],\n",
       "       [0.33333333, 0.92190889],\n",
       "       [0.33333333, 0.99421547],\n",
       "       [0.33333333, 0.96746204],\n",
       "       [0.33333333, 0.9132321 ],\n",
       "       [0.33333333, 0.96167751],\n",
       "       [0.33333333, 0.92769342],\n",
       "       [0.33333333, 0.95372379],\n",
       "       [0.33333333, 0.91395517],\n",
       "       [0.33333333, 0.94432393],\n",
       "       [0.33333333, 0.8626175 ],\n",
       "       [0.33333333, 0.91901663],\n",
       "       [0.33333333, 0.85683297],\n",
       "       [0.33333333, 0.90383225],\n",
       "       [0.33333333, 0.87129429],\n",
       "       [0.33333333, 0.89587852],\n",
       "       [0.33333333, 0.88937093],\n",
       "       [0.33333333, 0.93058568],\n",
       "       [0.33333333, 0.94143167],\n",
       "       [0.33333333, 0.92046276],\n",
       "       [0.33333333, 0.90961678],\n",
       "       [0.33333333, 0.91684743],\n",
       "       [0.33333333, 0.92263196],\n",
       "       [0.33333333, 0.90455531],\n",
       "       [0.33333333, 0.90238612],\n",
       "       [0.33333333, 0.8879248 ],\n",
       "       [0.33333333, 0.87129429],\n",
       "       [0.33333333, 0.87274042],\n",
       "       [0.33333333, 0.95589299],\n",
       "       [0.33333333, 0.90817064],\n",
       "       [0.33333333, 0.89732466],\n",
       "       [0.33333333, 0.93130875],\n",
       "       [0.33333333, 0.88503254],\n",
       "       [0.33333333, 0.87129429],\n",
       "       [0.33333333, 0.95516992],\n",
       "       [0.33333333, 0.96746204],\n",
       "       [0.33333333, 0.93275488],\n",
       "       [0.33333333, 0.9472162 ],\n",
       "       [0.33333333, 0.93564714],\n",
       "       [0.33333333, 0.87129429],\n",
       "       [0.33333333, 0.92769342],\n",
       "       [0.33333333, 0.92697035],\n",
       "       [0.33333333, 0.92335503],\n",
       "       [0.33333333, 0.92118583],\n",
       "       [0.33333333, 0.90817064],\n",
       "       [0.33333333, 0.95589299],\n",
       "       [0.33333333, 0.88864787],\n",
       "       [0.33333333, 0.9197397 ],\n",
       "       [0.66666667, 0.82212581],\n",
       "       [0.66666667, 0.81923355],\n",
       "       [0.66666667, 0.84164859],\n",
       "       [0.66666667, 0.91612437],\n",
       "       [0.66666667, 0.82212581],\n",
       "       [0.66666667, 0.8076645 ],\n",
       "       [0.66666667, 0.82212581],\n",
       "       [0.66666667, 0.87563268],\n",
       "       [0.66666667, 0.82212581],\n",
       "       [0.66666667, 0.8922632 ],\n",
       "       [0.66666667, 0.81055676],\n",
       "       [0.66666667, 0.81634129],\n",
       "       [0.66666667, 0.92986262],\n",
       "       [0.66666667, 0.90310918],\n",
       "       [0.66666667, 0.86695589],\n",
       "       [0.66666667, 0.79248012],\n",
       "       [0.66666667, 0.77078814],\n",
       "       [0.66666667, 0.86984816],\n",
       "       [0.66666667, 0.78380333],\n",
       "       [0.66666667, 0.81923355],\n",
       "       [0.66666667, 0.84598698],\n",
       "       [0.66666667, 0.79537238],\n",
       "       [0.66666667, 0.84743312],\n",
       "       [0.66666667, 0.80115691],\n",
       "       [0.66666667, 0.87129429],\n",
       "       [0.66666667, 0.78380333],\n",
       "       [0.66666667, 0.84381779],\n",
       "       [0.66666667, 0.80694143],\n",
       "       [0.66666667, 0.77006508],\n",
       "       [0.66666667, 0.76934201],\n",
       "       [0.66666667, 0.80115691],\n",
       "       [0.66666667, 0.80115691],\n",
       "       [0.66666667, 0.79537238],\n",
       "       [0.66666667, 0.84526392],\n",
       "       [0.66666667, 0.81634129],\n",
       "       [0.66666667, 0.76789588],\n",
       "       [0.66666667, 0.82935647],\n",
       "       [0.66666667, 0.78163413],\n",
       "       [0.66666667, 0.81634129],\n",
       "       [0.66666667, 0.82212581],\n",
       "       [0.66666667, 0.81634129],\n",
       "       [0.66666667, 0.80115691],\n",
       "       [0.66666667, 0.83875633],\n",
       "       [0.66666667, 0.81995662],\n",
       "       [0.66666667, 0.78235719],\n",
       "       [0.66666667, 0.83224873],\n",
       "       [0.66666667, 0.82574114],\n",
       "       [0.66666667, 0.81344902],\n",
       "       [0.66666667, 0.84743312],\n",
       "       [0.66666667, 0.81127983],\n",
       "       [0.66666667, 0.76717281],\n",
       "       [0.66666667, 0.75632683],\n",
       "       [0.66666667, 0.8329718 ],\n",
       "       [0.66666667, 0.7780188 ],\n",
       "       [0.66666667, 0.7527115 ],\n",
       "       [0.66666667, 0.80115691],\n",
       "       [0.66666667, 0.725235  ],\n",
       "       [0.66666667, 0.78235719],\n",
       "       [0.66666667, 0.82574114],\n",
       "       [0.66666667, 0.85104845],\n",
       "       [0.66666667, 0.79537238],\n",
       "       [0.66666667, 0.75560376],\n",
       "       [0.66666667, 0.76355748],\n",
       "       [0.66666667, 0.82574114],\n",
       "       [0.66666667, 0.87129429],\n",
       "       [0.66666667, 0.78597252],\n",
       "       [0.66666667, 0.80043384],\n",
       "       [0.66666667, 0.82646421],\n",
       "       [0.66666667, 0.780188  ],\n",
       "       [0.66666667, 0.82212581],\n",
       "       [0.66666667, 0.79826464],\n",
       "       [1.        , 0.85755604],\n",
       "       [1.        , 0.85900217],\n",
       "       [1.        , 0.85394071],\n",
       "       [1.        , 0.84598698],\n",
       "       [1.        , 0.83224873],\n",
       "       [1.        , 0.83875633],\n",
       "       [1.        , 0.81344902],\n",
       "       [1.        , 0.83369487],\n",
       "       [1.        , 0.90310918],\n",
       "       [1.        , 0.85610991],\n",
       "       [1.        , 0.8626175 ],\n",
       "       [1.        , 0.89370933],\n",
       "       [1.        , 0.90527838],\n",
       "       [1.        , 0.91250904],\n",
       "       [1.        , 0.81344902],\n",
       "       [1.        , 0.87924801],\n",
       "       [1.        , 0.93130875],\n",
       "       [1.        , 0.8582791 ],\n",
       "       [1.        , 0.89081706],\n",
       "       [1.        , 0.87346349],\n",
       "       [1.        , 0.90383225],\n",
       "       [1.        , 0.85249458],\n",
       "       [1.        , 0.87563268],\n",
       "       [1.        , 0.88430947],\n",
       "       [1.        , 0.8373102 ],\n",
       "       [1.        , 0.87997108],\n",
       "       [1.        , 0.92841649],\n",
       "       [1.        , 0.82791034],\n",
       "       [1.        , 0.96456978],\n",
       "       [1.        , 0.90238612],\n",
       "       [1.        , 0.82140275],\n",
       "       [1.        , 0.9175705 ],\n",
       "       [1.        , 0.85683297],\n",
       "       [1.        , 0.8647867 ],\n",
       "       [1.        , 0.92407809],\n",
       "       [1.        , 0.92046276],\n",
       "       [1.        , 0.90021692],\n",
       "       [1.        , 0.85466377],\n",
       "       [1.        , 0.90961678],\n",
       "       [1.        , 0.89660159],\n",
       "       [1.        , 0.80983369],\n",
       "       [1.        , 0.85104845],\n",
       "       [1.        , 0.95155459],\n",
       "       [1.        , 0.91901663],\n",
       "       [1.        , 0.89660159],\n",
       "       [1.        , 0.88720174],\n",
       "       [1.        , 0.87997108],\n",
       "       [1.        , 0.94938539]])"
      ]
     },
     "execution_count": 11,
     "metadata": {},
     "output_type": "execute_result"
    }
   ],
   "source": [
    "# Normalization \n",
    "from sklearn.preprocessing import MinMaxScaler\n",
    "scaling=MinMaxScaler()\n",
    "scaling.fit_transform(df[['Alcohol','Malic']])"
   ]
  },
  {
   "cell_type": "markdown",
   "metadata": {},
   "source": [
    "# Standardization ( Z-score normalization)"
   ]
  },
  {
   "cell_type": "code",
   "execution_count": 12,
   "metadata": {},
   "outputs": [
    {
     "data": {
      "text/plain": [
       "array([[-2.45802322e+00, -9.90429979e+00],\n",
       "       [-1.18270103e+00,  1.07597072e+00],\n",
       "       [-1.18270103e+00,  2.21119726e-01],\n",
       "       [-1.18270103e+00,  1.87921629e-01],\n",
       "       [-1.18270103e+00,  1.19216406e+00],\n",
       "       [-1.18270103e+00,  2.54317822e-01],\n",
       "       [-1.18270103e+00,  1.05107215e+00],\n",
       "       [-1.18270103e+00,  1.20876311e+00],\n",
       "       [-1.18270103e+00,  9.34878807e-01],\n",
       "       [-1.18270103e+00,  1.57394217e+00],\n",
       "       [-1.18270103e+00,  7.68888323e-01],\n",
       "       [-1.18270103e+00,  9.68076903e-01],\n",
       "       [-1.18270103e+00,  9.84675952e-01],\n",
       "       [-1.18270103e+00,  6.77593557e-01],\n",
       "       [-1.18270103e+00,  1.50754598e+00],\n",
       "       [-1.18270103e+00,  1.20046358e+00],\n",
       "       [-1.18270103e+00,  5.77999266e-01],\n",
       "       [-1.18270103e+00,  1.13406739e+00],\n",
       "       [-1.18270103e+00,  7.43989750e-01],\n",
       "       [-1.18270103e+00,  1.04277262e+00],\n",
       "       [-1.18270103e+00,  5.86298790e-01],\n",
       "       [-1.18270103e+00,  9.34878807e-01],\n",
       "       [-1.18270103e+00, -2.96742765e-03],\n",
       "       [-1.18270103e+00,  6.44395460e-01],\n",
       "       [-1.18270103e+00, -6.93636212e-02],\n",
       "       [-1.18270103e+00,  4.70105452e-01],\n",
       "       [-1.18270103e+00,  9.66268627e-02],\n",
       "       [-1.18270103e+00,  3.78810685e-01],\n",
       "       [-1.18270103e+00,  3.04114968e-01],\n",
       "       [-1.18270103e+00,  7.77187847e-01],\n",
       "       [-1.18270103e+00,  9.01680710e-01],\n",
       "       [-1.18270103e+00,  6.60994508e-01],\n",
       "       [-1.18270103e+00,  5.36501645e-01],\n",
       "       [-1.18270103e+00,  6.19496887e-01],\n",
       "       [-1.18270103e+00,  6.85893081e-01],\n",
       "       [-1.18270103e+00,  4.78404976e-01],\n",
       "       [-1.18270103e+00,  4.53506403e-01],\n",
       "       [-1.18270103e+00,  2.87515919e-01],\n",
       "       [-1.18270103e+00,  9.66268627e-02],\n",
       "       [-1.18270103e+00,  1.13225911e-01],\n",
       "       [-1.18270103e+00,  1.06767119e+00],\n",
       "       [-1.18270103e+00,  5.19902597e-01],\n",
       "       [-1.18270103e+00,  3.95409734e-01],\n",
       "       [-1.18270103e+00,  7.85487371e-01],\n",
       "       [-1.18270103e+00,  2.54317822e-01],\n",
       "       [-1.18270103e+00,  9.66268627e-02],\n",
       "       [-1.18270103e+00,  1.05937167e+00],\n",
       "       [-1.18270103e+00,  1.20046358e+00],\n",
       "       [-1.18270103e+00,  8.02086419e-01],\n",
       "       [-1.18270103e+00,  9.68076903e-01],\n",
       "       [-1.18270103e+00,  8.35284516e-01],\n",
       "       [-1.18270103e+00,  9.66268627e-02],\n",
       "       [-1.18270103e+00,  7.43989750e-01],\n",
       "       [-1.18270103e+00,  7.35690226e-01],\n",
       "       [-1.18270103e+00,  6.94192605e-01],\n",
       "       [-1.18270103e+00,  6.69294032e-01],\n",
       "       [-1.18270103e+00,  5.19902597e-01],\n",
       "       [-1.18270103e+00,  1.06767119e+00],\n",
       "       [-1.18270103e+00,  2.95815443e-01],\n",
       "       [-1.18270103e+00,  6.52694984e-01],\n",
       "       [ 9.26211650e-02, -4.67740783e-01],\n",
       "       [ 9.26211650e-02, -5.00938879e-01],\n",
       "       [ 9.26211650e-02, -2.43653629e-01],\n",
       "       [ 9.26211650e-02,  6.11197363e-01],\n",
       "       [ 9.26211650e-02, -4.67740783e-01],\n",
       "       [ 9.26211650e-02, -6.33731267e-01],\n",
       "       [ 9.26211650e-02, -4.67740783e-01],\n",
       "       [ 9.26211650e-02,  1.46424008e-01],\n",
       "       [ 9.26211650e-02, -4.67740783e-01],\n",
       "       [ 9.26211650e-02,  3.37313064e-01],\n",
       "       [ 9.26211650e-02, -6.00533170e-01],\n",
       "       [ 9.26211650e-02, -5.34136976e-01],\n",
       "       [ 9.26211650e-02,  7.68888323e-01],\n",
       "       [ 9.26211650e-02,  4.61805927e-01],\n",
       "       [ 9.26211650e-02,  4.68297175e-02],\n",
       "       [ 9.26211650e-02, -8.08021275e-01],\n",
       "       [ 9.26211650e-02, -1.05700700e+00],\n",
       "       [ 9.26211650e-02,  8.00278143e-02],\n",
       "       [ 9.26211650e-02, -9.07615565e-01],\n",
       "       [ 9.26211650e-02, -5.00938879e-01],\n",
       "       [ 9.26211650e-02, -1.93856484e-01],\n",
       "       [ 9.26211650e-02, -7.74823178e-01],\n",
       "       [ 9.26211650e-02, -1.77257436e-01],\n",
       "       [ 9.26211650e-02, -7.08426984e-01],\n",
       "       [ 9.26211650e-02,  9.66268627e-02],\n",
       "       [ 9.26211650e-02, -9.07615565e-01],\n",
       "       [ 9.26211650e-02, -2.18755057e-01],\n",
       "       [ 9.26211650e-02, -6.42030791e-01],\n",
       "       [ 9.26211650e-02, -1.06530652e+00],\n",
       "       [ 9.26211650e-02, -1.07360605e+00],\n",
       "       [ 9.26211650e-02, -7.08426984e-01],\n",
       "       [ 9.26211650e-02, -7.08426984e-01],\n",
       "       [ 9.26211650e-02, -7.74823178e-01],\n",
       "       [ 9.26211650e-02, -2.02156008e-01],\n",
       "       [ 9.26211650e-02, -5.34136976e-01],\n",
       "       [ 9.26211650e-02, -1.09020510e+00],\n",
       "       [ 9.26211650e-02, -3.84745541e-01],\n",
       "       [ 9.26211650e-02, -9.32514138e-01],\n",
       "       [ 9.26211650e-02, -5.34136976e-01],\n",
       "       [ 9.26211650e-02, -4.67740783e-01],\n",
       "       [ 9.26211650e-02, -5.34136976e-01],\n",
       "       [ 9.26211650e-02, -7.08426984e-01],\n",
       "       [ 9.26211650e-02, -2.76851726e-01],\n",
       "       [ 9.26211650e-02, -4.92639355e-01],\n",
       "       [ 9.26211650e-02, -9.24214614e-01],\n",
       "       [ 9.26211650e-02, -3.51547444e-01],\n",
       "       [ 9.26211650e-02, -4.26243162e-01],\n",
       "       [ 9.26211650e-02, -5.67335073e-01],\n",
       "       [ 9.26211650e-02, -1.77257436e-01],\n",
       "       [ 9.26211650e-02, -5.92233646e-01],\n",
       "       [ 9.26211650e-02, -1.09850462e+00],\n",
       "       [ 9.26211650e-02, -1.22299748e+00],\n",
       "       [ 9.26211650e-02, -3.43247920e-01],\n",
       "       [ 9.26211650e-02, -9.74011759e-01],\n",
       "       [ 9.26211650e-02, -1.26449511e+00],\n",
       "       [ 9.26211650e-02, -7.08426984e-01],\n",
       "       [ 9.26211650e-02, -1.57987703e+00],\n",
       "       [ 9.26211650e-02, -9.24214614e-01],\n",
       "       [ 9.26211650e-02, -4.26243162e-01],\n",
       "       [ 9.26211650e-02, -1.35759815e-01],\n",
       "       [ 9.26211650e-02, -7.74823178e-01],\n",
       "       [ 9.26211650e-02, -1.23129701e+00],\n",
       "       [ 9.26211650e-02, -1.14000224e+00],\n",
       "       [ 9.26211650e-02, -4.26243162e-01],\n",
       "       [ 9.26211650e-02,  9.66268627e-02],\n",
       "       [ 9.26211650e-02, -8.82716993e-01],\n",
       "       [ 9.26211650e-02, -7.16726509e-01],\n",
       "       [ 9.26211650e-02, -4.17943637e-01],\n",
       "       [ 9.26211650e-02, -9.49113186e-01],\n",
       "       [ 9.26211650e-02, -4.67740783e-01],\n",
       "       [ 9.26211650e-02, -7.41625081e-01],\n",
       "       [ 1.36794336e+00, -6.10640970e-02],\n",
       "       [ 1.36794336e+00, -4.44650486e-02],\n",
       "       [ 1.36794336e+00, -1.02561718e-01],\n",
       "       [ 1.36794336e+00, -1.93856484e-01],\n",
       "       [ 1.36794336e+00, -3.51547444e-01],\n",
       "       [ 1.36794336e+00, -2.76851726e-01],\n",
       "       [ 1.36794336e+00, -5.67335073e-01],\n",
       "       [ 1.36794336e+00, -3.34948396e-01],\n",
       "       [ 1.36794336e+00,  4.61805927e-01],\n",
       "       [ 1.36794336e+00, -7.76631454e-02],\n",
       "       [ 1.36794336e+00, -2.96742765e-03],\n",
       "       [ 1.36794336e+00,  3.53912113e-01],\n",
       "       [ 1.36794336e+00,  4.86704500e-01],\n",
       "       [ 1.36794336e+00,  5.69699742e-01],\n",
       "       [ 1.36794336e+00, -5.67335073e-01],\n",
       "       [ 1.36794336e+00,  1.87921629e-01],\n",
       "       [ 1.36794336e+00,  7.85487371e-01],\n",
       "       [ 1.36794336e+00, -5.27645728e-02],\n",
       "       [ 1.36794336e+00,  3.20714016e-01],\n",
       "       [ 1.36794336e+00,  1.21525435e-01],\n",
       "       [ 1.36794336e+00,  4.70105452e-01],\n",
       "       [ 1.36794336e+00, -1.19160766e-01],\n",
       "       [ 1.36794336e+00,  1.46424008e-01],\n",
       "       [ 1.36794336e+00,  2.46018298e-01],\n",
       "       [ 1.36794336e+00, -2.93450775e-01],\n",
       "       [ 1.36794336e+00,  1.96221153e-01],\n",
       "       [ 1.36794336e+00,  7.52289274e-01],\n",
       "       [ 1.36794336e+00, -4.01344589e-01],\n",
       "       [ 1.36794336e+00,  1.16726548e+00],\n",
       "       [ 1.36794336e+00,  4.53506403e-01],\n",
       "       [ 1.36794336e+00, -4.76040307e-01],\n",
       "       [ 1.36794336e+00,  6.27796411e-01],\n",
       "       [ 1.36794336e+00, -6.93636212e-02],\n",
       "       [ 1.36794336e+00,  2.19311449e-02],\n",
       "       [ 1.36794336e+00,  7.02492129e-01],\n",
       "       [ 1.36794336e+00,  6.60994508e-01],\n",
       "       [ 1.36794336e+00,  4.28607831e-01],\n",
       "       [ 1.36794336e+00, -9.42621938e-02],\n",
       "       [ 1.36794336e+00,  5.36501645e-01],\n",
       "       [ 1.36794336e+00,  3.87110210e-01],\n",
       "       [ 1.36794336e+00, -6.08832694e-01],\n",
       "       [ 1.36794336e+00, -1.35759815e-01],\n",
       "       [ 1.36794336e+00,  1.01787405e+00],\n",
       "       [ 1.36794336e+00,  6.44395460e-01],\n",
       "       [ 1.36794336e+00,  3.87110210e-01],\n",
       "       [ 1.36794336e+00,  2.79216395e-01],\n",
       "       [ 1.36794336e+00,  1.96221153e-01],\n",
       "       [ 1.36794336e+00,  9.92975476e-01]])"
      ]
     },
     "execution_count": 12,
     "metadata": {},
     "output_type": "execute_result"
    }
   ],
   "source": [
    "# Standardization ( mu=0 and sd=1) using wine dataset\n",
    "\n",
    "from sklearn.preprocessing import StandardScaler\n",
    "scaling=StandardScaler()\n",
    "scaling.fit_transform(df[['Alcohol','Malic']])"
   ]
  },
  {
   "cell_type": "markdown",
   "metadata": {},
   "source": [
    "Let's demonstrate the procedure of standarisation on the titanic dataset."
   ]
  },
  {
   "cell_type": "code",
   "execution_count": 15,
   "metadata": {},
   "outputs": [],
   "source": [
    "import pandas as pd\n",
    "import numpy as np\n",
    "\n",
    "from sklearn.preprocessing import StandardScaler\n",
    "\n",
    "from sklearn.metrics import roc_auc_score\n",
    "from sklearn.model_selection import train_test_split\n",
    "\n",
    "import matplotlib.pyplot as plt\n",
    "% matplotlib inline"
   ]
  },
  {
   "cell_type": "code",
   "execution_count": 16,
   "metadata": {},
   "outputs": [
    {
     "data": {
      "text/html": [
       "<div>\n",
       "<style scoped>\n",
       "    .dataframe tbody tr th:only-of-type {\n",
       "        vertical-align: middle;\n",
       "    }\n",
       "\n",
       "    .dataframe tbody tr th {\n",
       "        vertical-align: top;\n",
       "    }\n",
       "\n",
       "    .dataframe thead th {\n",
       "        text-align: right;\n",
       "    }\n",
       "</style>\n",
       "<table border=\"1\" class=\"dataframe\">\n",
       "  <thead>\n",
       "    <tr style=\"text-align: right;\">\n",
       "      <th></th>\n",
       "      <th>Survived</th>\n",
       "      <th>Pclass</th>\n",
       "      <th>Age</th>\n",
       "      <th>Fare</th>\n",
       "    </tr>\n",
       "  </thead>\n",
       "  <tbody>\n",
       "    <tr>\n",
       "      <th>0</th>\n",
       "      <td>0</td>\n",
       "      <td>3</td>\n",
       "      <td>22.0</td>\n",
       "      <td>7.2500</td>\n",
       "    </tr>\n",
       "    <tr>\n",
       "      <th>1</th>\n",
       "      <td>1</td>\n",
       "      <td>1</td>\n",
       "      <td>38.0</td>\n",
       "      <td>71.2833</td>\n",
       "    </tr>\n",
       "    <tr>\n",
       "      <th>2</th>\n",
       "      <td>1</td>\n",
       "      <td>3</td>\n",
       "      <td>26.0</td>\n",
       "      <td>7.9250</td>\n",
       "    </tr>\n",
       "    <tr>\n",
       "      <th>3</th>\n",
       "      <td>1</td>\n",
       "      <td>1</td>\n",
       "      <td>35.0</td>\n",
       "      <td>53.1000</td>\n",
       "    </tr>\n",
       "    <tr>\n",
       "      <th>4</th>\n",
       "      <td>0</td>\n",
       "      <td>3</td>\n",
       "      <td>35.0</td>\n",
       "      <td>8.0500</td>\n",
       "    </tr>\n",
       "  </tbody>\n",
       "</table>\n",
       "</div>"
      ],
      "text/plain": [
       "   Survived  Pclass   Age     Fare\n",
       "0         0       3  22.0   7.2500\n",
       "1         1       1  38.0  71.2833\n",
       "2         1       3  26.0   7.9250\n",
       "3         1       1  35.0  53.1000\n",
       "4         0       3  35.0   8.0500"
      ]
     },
     "execution_count": 16,
     "metadata": {},
     "output_type": "execute_result"
    }
   ],
   "source": [
    "# load the numerical variables of the Titanic Dataset\n",
    "\n",
    "data = pd.read_csv('titanic.csv', usecols = ['Pclass', 'Age', 'Fare', 'Survived'])\n",
    "data.head()"
   ]
  },
  {
   "cell_type": "code",
   "execution_count": 17,
   "metadata": {},
   "outputs": [
    {
     "data": {
      "text/html": [
       "<div>\n",
       "<style scoped>\n",
       "    .dataframe tbody tr th:only-of-type {\n",
       "        vertical-align: middle;\n",
       "    }\n",
       "\n",
       "    .dataframe tbody tr th {\n",
       "        vertical-align: top;\n",
       "    }\n",
       "\n",
       "    .dataframe thead th {\n",
       "        text-align: right;\n",
       "    }\n",
       "</style>\n",
       "<table border=\"1\" class=\"dataframe\">\n",
       "  <thead>\n",
       "    <tr style=\"text-align: right;\">\n",
       "      <th></th>\n",
       "      <th>Survived</th>\n",
       "      <th>Pclass</th>\n",
       "      <th>Age</th>\n",
       "      <th>Fare</th>\n",
       "    </tr>\n",
       "  </thead>\n",
       "  <tbody>\n",
       "    <tr>\n",
       "      <th>count</th>\n",
       "      <td>891.000000</td>\n",
       "      <td>891.000000</td>\n",
       "      <td>714.000000</td>\n",
       "      <td>891.000000</td>\n",
       "    </tr>\n",
       "    <tr>\n",
       "      <th>mean</th>\n",
       "      <td>0.383838</td>\n",
       "      <td>2.308642</td>\n",
       "      <td>29.699118</td>\n",
       "      <td>32.204208</td>\n",
       "    </tr>\n",
       "    <tr>\n",
       "      <th>std</th>\n",
       "      <td>0.486592</td>\n",
       "      <td>0.836071</td>\n",
       "      <td>14.526497</td>\n",
       "      <td>49.693429</td>\n",
       "    </tr>\n",
       "    <tr>\n",
       "      <th>min</th>\n",
       "      <td>0.000000</td>\n",
       "      <td>1.000000</td>\n",
       "      <td>0.420000</td>\n",
       "      <td>0.000000</td>\n",
       "    </tr>\n",
       "    <tr>\n",
       "      <th>25%</th>\n",
       "      <td>0.000000</td>\n",
       "      <td>2.000000</td>\n",
       "      <td>20.125000</td>\n",
       "      <td>7.910400</td>\n",
       "    </tr>\n",
       "    <tr>\n",
       "      <th>50%</th>\n",
       "      <td>0.000000</td>\n",
       "      <td>3.000000</td>\n",
       "      <td>28.000000</td>\n",
       "      <td>14.454200</td>\n",
       "    </tr>\n",
       "    <tr>\n",
       "      <th>75%</th>\n",
       "      <td>1.000000</td>\n",
       "      <td>3.000000</td>\n",
       "      <td>38.000000</td>\n",
       "      <td>31.000000</td>\n",
       "    </tr>\n",
       "    <tr>\n",
       "      <th>max</th>\n",
       "      <td>1.000000</td>\n",
       "      <td>3.000000</td>\n",
       "      <td>80.000000</td>\n",
       "      <td>512.329200</td>\n",
       "    </tr>\n",
       "  </tbody>\n",
       "</table>\n",
       "</div>"
      ],
      "text/plain": [
       "         Survived      Pclass         Age        Fare\n",
       "count  891.000000  891.000000  714.000000  891.000000\n",
       "mean     0.383838    2.308642   29.699118   32.204208\n",
       "std      0.486592    0.836071   14.526497   49.693429\n",
       "min      0.000000    1.000000    0.420000    0.000000\n",
       "25%      0.000000    2.000000   20.125000    7.910400\n",
       "50%      0.000000    3.000000   28.000000   14.454200\n",
       "75%      1.000000    3.000000   38.000000   31.000000\n",
       "max      1.000000    3.000000   80.000000  512.329200"
      ]
     },
     "execution_count": 17,
     "metadata": {},
     "output_type": "execute_result"
    }
   ],
   "source": [
    "# let's have a look at the values of those variables to get an idea of the magnitudes\n",
    "data.describe()"
   ]
  },
  {
   "cell_type": "markdown",
   "metadata": {},
   "source": [
    "The different variables present different value ranges, therefore different magnitudes. Not only the minimum and maximum values are different, but they also spread over ranges of different widths."
   ]
  },
  {
   "cell_type": "code",
   "execution_count": 18,
   "metadata": {},
   "outputs": [
    {
     "data": {
      "text/plain": [
       "Survived      0\n",
       "Pclass        0\n",
       "Age         177\n",
       "Fare          0\n",
       "dtype: int64"
      ]
     },
     "execution_count": 18,
     "metadata": {},
     "output_type": "execute_result"
    }
   ],
   "source": [
    "# let's look at missing data\n",
    "\n",
    "data.isnull().sum()"
   ]
  },
  {
   "cell_type": "markdown",
   "metadata": {},
   "source": [
    "Age contains missing information, so I will fill those observations with the median in the next cell."
   ]
  },
  {
   "cell_type": "code",
   "execution_count": 19,
   "metadata": {},
   "outputs": [
    {
     "data": {
      "text/plain": [
       "((623, 3), (268, 3))"
      ]
     },
     "execution_count": 19,
     "metadata": {},
     "output_type": "execute_result"
    }
   ],
   "source": [
    "# let's separate into training and testing set\n",
    "X_train, X_test, y_train, y_test = train_test_split(data[['Pclass', 'Age', 'Fare']],\n",
    "                                                    data.Survived, test_size=0.3,\n",
    "                                                    random_state=0)\n",
    "X_train.shape, X_test.shape"
   ]
  },
  {
   "cell_type": "code",
   "execution_count": 20,
   "metadata": {},
   "outputs": [],
   "source": [
    "# let's fill first the missing data with median value\n",
    "\n",
    "X_train.Age.fillna(X_train.Age.median(), inplace=True)\n",
    "X_test.Age.fillna(X_train.Age.median(), inplace=True)"
   ]
  },
  {
   "cell_type": "markdown",
   "metadata": {},
   "source": [
    "\n",
    "StandardScaler from scikit-learn removes the mean and scales the data to unit variance."
   ]
  },
  {
   "cell_type": "code",
   "execution_count": 21,
   "metadata": {},
   "outputs": [],
   "source": [
    "scaler = StandardScaler() # create an object\n",
    "X_train_scaled = scaler.fit_transform(X_train) # fit the scaler to the train set, and then transform it\n",
    "X_test_scaled = scaler.transform(X_test) # transform the test set"
   ]
  },
  {
   "cell_type": "code",
   "execution_count": 22,
   "metadata": {},
   "outputs": [
    {
     "name": "stdout",
     "output_type": "stream",
     "text": [
      "Mean of (Pclass, Age and Fare):  [4.98976640e-17 1.16903099e-16 5.41746067e-17]\n",
      "Standard deviation of (Pclass, Age and Fare):  [1. 1. 1.]\n"
     ]
    }
   ],
   "source": [
    "#let's have a look at the scaled training dataset: mean and standard deviation\n",
    "\n",
    "print('Mean of (Pclass, Age and Fare): ', X_train_scaled.mean(axis=0))\n",
    "print('Standard deviation of (Pclass, Age and Fare): ', X_train_scaled.std(axis=0))"
   ]
  },
  {
   "cell_type": "markdown",
   "metadata": {},
   "source": [
    "As expected, the mean of each variable is now around zero and the standard deviation is set to 1. Thus, all the variable values lie within the same range."
   ]
  },
  {
   "cell_type": "code",
   "execution_count": 23,
   "metadata": {},
   "outputs": [
    {
     "name": "stdout",
     "output_type": "stream",
     "text": [
      "Min values (Pclass, Age and Fare):  [-1.5325562  -2.23351124 -0.67314402]\n",
      "Max values (Pclass, Age and Fare):  [0.84844757 3.86209655 9.95192344]\n"
     ]
    }
   ],
   "source": [
    "# let's look at the transformed min and max values\n",
    "\n",
    "print('Min values (Pclass, Age and Fare): ', X_train_scaled.min(axis=0))\n",
    "print('Max values (Pclass, Age and Fare): ', X_train_scaled.max(axis=0))"
   ]
  },
  {
   "cell_type": "markdown",
   "metadata": {},
   "source": [
    "However, the minimum and maximum values vary according to how spread the variable was to begin with and is highly influenced by the presence of outliers. We observed from data that the variable Fare has a few extreme outliers, that is, people that paid extraordinarily high Fares. Those observations would drive the value of the maximum value far away from the unit variance (a value of 9.9 in this case)."
   ]
  },
  {
   "cell_type": "code",
   "execution_count": 26,
   "metadata": {},
   "outputs": [
    {
     "data": {
      "text/plain": [
       "(array([ 30.,  10.,  10.,  19.,  52.,  67.,  56., 183.,  56.,  34.,  28.,\n",
       "         25.,  18.,  10.,  10.,   7.,   3.,   3.,   1.,   1.]),\n",
       " array([-2.23351124, -1.92873085, -1.62395046, -1.31917007, -1.01438968,\n",
       "        -0.70960929, -0.4048289 , -0.10004851,  0.20473188,  0.50951227,\n",
       "         0.81429266,  1.11907305,  1.42385344,  1.72863383,  2.03341422,\n",
       "         2.33819461,  2.642975  ,  2.94775539,  3.25253577,  3.55731616,\n",
       "         3.86209655]),\n",
       " <a list of 20 Patch objects>)"
      ]
     },
     "execution_count": 26,
     "metadata": {},
     "output_type": "execute_result"
    },
    {
     "data": {
      "image/png": "[encoded data removed]",
      "text/plain": [
       "<matplotlib.figure.Figure at 0x11d28ac8>"
      ]
     },
     "metadata": {
      "needs_background": "light"
     },
     "output_type": "display_data"
    }
   ],
   "source": [
    "# let's look at the distribution of the transformed variable Age ( 0= Pclass , 1= Age , 2 = Fare)\n",
    "\n",
    "plt.hist(X_train_scaled[:,1], bins=20)"
   ]
  },
  {
   "cell_type": "code",
   "execution_count": 27,
   "metadata": {},
   "outputs": [
    {
     "data": {
      "text/plain": [
       "(array([388., 118.,  54.,  27.,  10.,  12.,   1.,   0.,   7.,   1.,   3.,\n",
       "          0.,   0.,   0.,   0.,   0.,   0.,   0.,   0.,   2.]),\n",
       " array([-0.67314402, -0.14189064,  0.38936273,  0.9206161 ,  1.45186948,\n",
       "         1.98312285,  2.51437622,  3.04562959,  3.57688297,  4.10813634,\n",
       "         4.63938971,  5.17064309,  5.70189646,  6.23314983,  6.76440321,\n",
       "         7.29565658,  7.82690995,  8.35816333,  8.8894167 ,  9.42067007,\n",
       "         9.95192344]),\n",
       " <a list of 20 Patch objects>)"
      ]
     },
     "execution_count": 27,
     "metadata": {},
     "output_type": "execute_result"
    },
    {
     "data": {
      "image/png": "[encoded data removed]",
      "text/plain": [
       "<matplotlib.figure.Figure at 0x13de21d0>"
      ]
     },
     "metadata": {
      "needs_background": "light"
     },
     "output_type": "display_data"
    }
   ],
   "source": [
    "# let's look at the distribution of the transformed variable Fare ( 0= Pclass , 1= Age , 2 = Fare)\n",
    "\n",
    "plt.hist(X_train_scaled[:,2], bins=20)"
   ]
  },
  {
   "cell_type": "markdown",
   "metadata": {},
   "source": [
    "The variable Age has a somewhat normal distribution after the transformation, reflecting the approximately Gaussian distribution that shows the original variable. Fare on the other had shows a skewed distribution, which is also evidenced after variable transformation in the previous plot. In fact, we can see that the standarisation of Fare, shrinks the majority of the observations towards the lowest values."
   ]
  },
  {
   "cell_type": "code",
   "execution_count": 30,
   "metadata": {},
   "outputs": [],
   "source": [
    "import seaborn as sns"
   ]
  },
  {
   "cell_type": "code",
   "execution_count": 39,
   "metadata": {},
   "outputs": [
    {
     "data": {
      "text/plain": [
       "<seaborn.axisgrid.JointGrid at 0x15ac7470>"
      ]
     },
     "execution_count": 39,
     "metadata": {},
     "output_type": "execute_result"
    },
    {
     "data": {
      "image/png": "[encoded data removed]",
      "text/plain": [
       "<matplotlib.figure.Figure at 0x15ac7080>"
      ]
     },
     "metadata": {
      "needs_background": "light"
     },
     "output_type": "display_data"
    }
   ],
   "source": [
    "# let's look at how transformed age looks like compared to the original variable\n",
    "\n",
    "sns.jointplot(X_train.Age, X_train_scaled[:,1],kind='hex')"
   ]
  },
  {
   "cell_type": "markdown",
   "metadata": {},
   "source": [
    "The transformed variable has a good correlation with the original one."
   ]
  },
  {
   "cell_type": "code",
   "execution_count": 35,
   "metadata": {},
   "outputs": [
    {
     "data": {
      "text/plain": [
       "<seaborn.axisgrid.JointGrid at 0x14176b00>"
      ]
     },
     "execution_count": 35,
     "metadata": {},
     "output_type": "execute_result"
    },
    {
     "data": {
      "image/png": "[encoded data removed]",
      "text/plain": [
       "<matplotlib.figure.Figure at 0x14176b70>"
      ]
     },
     "metadata": {
      "needs_background": "light"
     },
     "output_type": "display_data"
    }
   ],
   "source": [
    "# let's look at how transformed Fare looks like compared to the original variable\n",
    "\n",
    "sns.jointplot(X_train.Fare, X_train_scaled[:,2],kind='hex', xlim=(0,200), ylim=(-1,3))"
   ]
  },
  {
   "cell_type": "markdown",
   "metadata": {},
   "source": [
    "The values are concentrated on the lower left side of the plot, because Fare is highly skewed: the outliers have an influence when computing the empirical mean and standard deviation which shrink the range of the feature values as shown in the left figure above.\n",
    "\n",
    "Other scaling methods account for the presence of outliers."
   ]
  },
  {
   "cell_type": "code",
   "execution_count": null,
   "metadata": {},
   "outputs": [],
   "source": []
  }
 ],
 "metadata": {
  "kernelspec": {
   "display_name": "Python 3",
   "language": "python",
   "name": "python3"
  },
  "language_info": {
   "codemirror_mode": {
    "name": "ipython",
    "version": 3
   },
   "file_extension": ".py",
   "mimetype": "text/x-python",
   "name": "python",
   "nbconvert_exporter": "python",
   "pygments_lexer": "ipython3",
   "version": "3.6.4"
  }
 },
 "nbformat": 4,
 "nbformat_minor": 2
}
